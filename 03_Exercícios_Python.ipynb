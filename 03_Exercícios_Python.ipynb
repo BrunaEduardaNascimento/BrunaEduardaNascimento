{
  "nbformat": 4,
  "nbformat_minor": 0,
  "metadata": {
    "colab": {
      "provenance": [],
      "include_colab_link": true
    },
    "kernelspec": {
      "name": "python3",
      "display_name": "Python 3"
    },
    "language_info": {
      "name": "python"
    }
  },
  "cells": [
    {
      "cell_type": "markdown",
      "metadata": {
        "id": "view-in-github",
        "colab_type": "text"
      },
      "source": [
        "<a href=\"https://colab.research.google.com/github/BrunaEduardaNascimento/BrunaEduardaNascimento/blob/main/03_Exerc%C3%ADcios_Python.ipynb\" target=\"_parent\"><img src=\"https://colab.research.google.com/assets/colab-badge.svg\" alt=\"Open In Colab\"/></a>"
      ]
    },
    {
      "cell_type": "markdown",
      "source": [
        "### **1. Ambiente de Trabalho**\n",
        "\n",
        "**Pergunta:**\n",
        "\n",
        "Escreva um código para exibir a mensagem \"Olá, mundo!\"."
      ],
      "metadata": {
        "id": "NGozro6CmhMA"
      }
    },
    {
      "cell_type": "code",
      "execution_count": null,
      "metadata": {
        "id": "_-MhjDsamTQy"
      },
      "outputs": [],
      "source": [
        "# sua resposta"
      ]
    },
    {
      "cell_type": "markdown",
      "source": [
        "### **2. Estruturas Condicionais**\n",
        "\n",
        "**Pergunta:**\n",
        "\n",
        "Crie uma variável chamada idade. Se idade for maior ou igual a 18, exiba \"Maior de idade\". Caso contrário, exiba \"Menor de idade\"."
      ],
      "metadata": {
        "id": "Zk5-3bDxmm9p"
      }
    },
    {
      "cell_type": "code",
      "source": [
        "# sua resposta"
      ],
      "metadata": {
        "id": "iCvUOetgmrSe"
      },
      "execution_count": null,
      "outputs": []
    },
    {
      "cell_type": "markdown",
      "source": [
        "### **3. For**\n",
        "\n",
        "**Pergunta:**\n",
        "\n",
        "Dada a lista **`frutas = [\"maçã\", \"banana\", \"laranja\"]`**, escreva um loop **`for`** que imprime cada fruta em letras maiúsculas."
      ],
      "metadata": {
        "id": "XOLPBemEmrns"
      }
    },
    {
      "cell_type": "code",
      "source": [
        "# sua resposta"
      ],
      "metadata": {
        "id": "ShLyL_GlnR7S"
      },
      "execution_count": null,
      "outputs": []
    },
    {
      "cell_type": "markdown",
      "source": [
        "### **4. While**\n",
        "\n",
        "**Pergunta:**\n",
        "\n",
        "Use um loop **`while`** para imprimir os números de 1 a 5, inclusive."
      ],
      "metadata": {
        "id": "Ngugk4NrnSch"
      }
    },
    {
      "cell_type": "code",
      "source": [
        "# sua resposta"
      ],
      "metadata": {
        "id": "IWVPml8wnWON"
      },
      "execution_count": null,
      "outputs": []
    },
    {
      "cell_type": "markdown",
      "source": [
        "### **5. Expressões Booleanas**\n",
        "\n",
        "**Pergunta:**\n",
        "\n",
        "Dada a variável **`nota = 7.5`**, escreva um código que imprima True se a nota for maior ou igual a 6 e False caso contrário."
      ],
      "metadata": {
        "id": "DN4mtj8unXIs"
      }
    },
    {
      "cell_type": "code",
      "source": [
        "# sua resposta"
      ],
      "metadata": {
        "id": "Sm5BdmA1nZsC"
      },
      "execution_count": null,
      "outputs": []
    },
    {
      "cell_type": "markdown",
      "source": [
        "### **6. Listas**\n",
        "\n",
        "**Pergunta:**\n",
        "\n",
        "Crie uma lista com três nomes de cidades. Adicione mais um nome usando **`.append()`** e imprima a lista final"
      ],
      "metadata": {
        "id": "5QHM3i-wnaTz"
      }
    },
    {
      "cell_type": "code",
      "source": [
        "# sua resposta"
      ],
      "metadata": {
        "id": "nlaYSdM1q9qY"
      },
      "execution_count": null,
      "outputs": []
    },
    {
      "cell_type": "markdown",
      "source": [
        "### **7. Dicionários**\n",
        "\n",
        "**Pergunta:**\n",
        "\n",
        "Crie um dicionário chamado **`aluno`** com as chaves \"nome\" e \"nota\". Atribua \"João\" para nome e 8.0 para nota. Imprima só o valor da nota."
      ],
      "metadata": {
        "id": "geBFZhbiq2kn"
      }
    },
    {
      "cell_type": "code",
      "source": [
        "# sua resposta"
      ],
      "metadata": {
        "id": "5GWjaWXpq89o"
      },
      "execution_count": null,
      "outputs": []
    },
    {
      "cell_type": "markdown",
      "source": [
        "### **8. Pandas - Series e DataFrame**\n",
        "\n",
        "**Pergunta:**\n",
        "\n",
        "Crie uma Series do Pandas com os valores [10, 20, 30] e índices [\"a\", \"b\", \"c\"].\n",
        "\n",
        "Depois, crie um DataFrame com as colunas \"Produto\" ([\"A\", \"B\", \"C\"]) e \"Vendas\" ([100, 200, 150])."
      ],
      "metadata": {
        "id": "9zyyC1Nlq-HY"
      }
    },
    {
      "cell_type": "code",
      "source": [
        "# sua resposta"
      ],
      "metadata": {
        "id": "4XSckiYZrDXL"
      },
      "execution_count": null,
      "outputs": []
    },
    {
      "cell_type": "markdown",
      "source": [
        "### **9. NumPy - Operações**\n",
        "\n",
        "**Pergunta:**\n",
        "\n",
        "Crie um array do NumPy com os valores [1, 2, 3, 4]. Imprima o array multiplicado por 2."
      ],
      "metadata": {
        "id": "mzya7nB5rECf"
      }
    },
    {
      "cell_type": "code",
      "source": [
        "# sua resposta"
      ],
      "metadata": {
        "id": "YK44IU-UrGrA"
      },
      "execution_count": null,
      "outputs": []
    },
    {
      "cell_type": "markdown",
      "source": [
        "### **10. Matplotlib - Gráficos**\n",
        "\n",
        "**Pergunta:**\n",
        "\n",
        "Usando matplotlib, faça um gráfico de barras com as categorias [\"Azul\", \"Verde\", \"Amarelo\"] e os valores [5, 7, 3]. Não esqueça de mostrar o gráfico após criá-lo."
      ],
      "metadata": {
        "id": "2KAWrL0XrI-Y"
      }
    },
    {
      "cell_type": "code",
      "source": [
        "# sua resposta"
      ],
      "metadata": {
        "id": "dVxtB2o7rKS8"
      },
      "execution_count": null,
      "outputs": []
    }
  ]
}