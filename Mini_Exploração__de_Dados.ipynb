md 

# Exploração dados realizado com o dataset Student Performance (https://archive.ics.uci.edu/dataset/320/student+performance) para consolidação de conceito em Python
[Clique aqui para abrir o notebook no Colab](https://colab.research.google.com/drive/1I3nZVHeU0xltekm6I7j4u4CiD65PiC7R#scrollTo=50QoM4vyuRis)


{
  "nbformat": 4,
  "nbformat_minor": 0,
  "metadata": {
    "colab": {
      "provenance": [],
      "authorship_tag": "ABX9TyN+cDJsYybQtj3VMdB4ocf5",
      "include_colab_link": true
    },
    "kernelspec": {
      "name": "python3",
      "display_name": "Python 3"
    },
    "language_info": {
      "name": "python"
    }
  },
  "cells": [
    {
      "cell_type": "markdown",
      "metadata": {
        "id": "view-in-github",
        "colab_type": "text"
      },
      "source": [
        "<a href=\"https://colab.research.google.com/github/BrunaEduardaNascimento/BrunaEduardaNascimento/blob/main/Mini_Explora%C3%A7%C3%A3o__de_Dados.ipynb\" target=\"_parent\"><img src=\"https://colab.research.google.com/assets/colab-badge.svg\" alt=\"Open In Colab\"/></a>"
      ]
    },
    {
      "cell_type": "code",
      "source": [],
      "metadata": {
        "id": "EfiBVhkc9oy2"
      },
      "execution_count": null,
      "outputs": []
    },
    {
      "cell_type": "markdown",
      "source": [
        "# **Importação das biliotecas**"
      ],
      "metadata": {
        "id": "Xd4tBGn57-Xj"
      }
    },
    {
      "cell_type": "code",
      "source": [
        "!pip install matplotlib"
      ],
      "metadata": {
        "colab": {
          "base_uri": "https://localhost:8080/"
        },
        "id": "VZeCa1bzvrPq",
        "outputId": "91716475-d54e-47ce-8f9d-9054c57a51b3"
      },
      "execution_count": 3,
      "outputs": [
        {
          "output_type": "stream",
          "name": "stdout",
          "text": [
            "Requirement already satisfied: matplotlib in /usr/local/lib/python3.11/dist-packages (3.10.0)\n",
            "Requirement already satisfied: contourpy>=1.0.1 in /usr/local/lib/python3.11/dist-packages (from matplotlib) (1.3.2)\n",
            "Requirement already satisfied: cycler>=0.10 in /usr/local/lib/python3.11/dist-packages (from matplotlib) (0.12.1)\n",
            "Requirement already satisfied: fonttools>=4.22.0 in /usr/local/lib/python3.11/dist-packages (from matplotlib) (4.59.0)\n",
            "Requirement already satisfied: kiwisolver>=1.3.1 in /usr/local/lib/python3.11/dist-packages (from matplotlib) (1.4.8)\n",
            "Requirement already satisfied: numpy>=1.23 in /usr/local/lib/python3.11/dist-packages (from matplotlib) (2.0.2)\n",
            "Requirement already satisfied: packaging>=20.0 in /usr/local/lib/python3.11/dist-packages (from matplotlib) (25.0)\n",
            "Requirement already satisfied: pillow>=8 in /usr/local/lib/python3.11/dist-packages (from matplotlib) (11.3.0)\n",
            "Requirement already satisfied: pyparsing>=2.3.1 in /usr/local/lib/python3.11/dist-packages (from matplotlib) (3.2.3)\n",
            "Requirement already satisfied: python-dateutil>=2.7 in /usr/local/lib/python3.11/dist-packages (from matplotlib) (2.9.0.post0)\n",
            "Requirement already satisfied: six>=1.5 in /usr/local/lib/python3.11/dist-packages (from python-dateutil>=2.7->matplotlib) (1.17.0)\n"
          ]
        }
      ]
    },
    {
      "cell_type": "code",
      "source": [
        "import pandas as pd\n",
        "import numpy as np\n",
        "import matplotlib.pyplot as plt"
      ],
      "metadata": {
        "id": "RRMQ6BMN_Ehz"
      },
      "execution_count": 4,
      "outputs": []
    },
    {
      "cell_type": "markdown",
      "source": [
        "Código com ajuda de Chat GPT e o método de importação Python disponivel no próprio site\n",
        "\n"
      ],
      "metadata": {
        "id": "X8kj2iuA8umA"
      }
    },
    {
      "cell_type": "code",
      "source": [
        "pip install ucimlrepo #Instalação do ucilrepo da plataforma https://archive.ics.uci.edu/#"
      ],
      "metadata": {
        "colab": {
          "base_uri": "https://localhost:8080/"
        },
        "id": "K0TQWCrb73Xs",
        "outputId": "51555a8e-77d5-4c8a-fd31-af7a58df73d8"
      },
      "execution_count": 5,
      "outputs": [
        {
          "output_type": "stream",
          "name": "stdout",
          "text": [
            "Collecting ucimlrepo\n",
            "  Downloading ucimlrepo-0.0.7-py3-none-any.whl.metadata (5.5 kB)\n",
            "Requirement already satisfied: pandas>=1.0.0 in /usr/local/lib/python3.11/dist-packages (from ucimlrepo) (2.2.2)\n",
            "Requirement already satisfied: certifi>=2020.12.5 in /usr/local/lib/python3.11/dist-packages (from ucimlrepo) (2025.7.14)\n",
            "Requirement already satisfied: numpy>=1.23.2 in /usr/local/lib/python3.11/dist-packages (from pandas>=1.0.0->ucimlrepo) (2.0.2)\n",
            "Requirement already satisfied: python-dateutil>=2.8.2 in /usr/local/lib/python3.11/dist-packages (from pandas>=1.0.0->ucimlrepo) (2.9.0.post0)\n",
            "Requirement already satisfied: pytz>=2020.1 in /usr/local/lib/python3.11/dist-packages (from pandas>=1.0.0->ucimlrepo) (2025.2)\n",
            "Requirement already satisfied: tzdata>=2022.7 in /usr/local/lib/python3.11/dist-packages (from pandas>=1.0.0->ucimlrepo) (2025.2)\n",
            "Requirement already satisfied: six>=1.5 in /usr/local/lib/python3.11/dist-packages (from python-dateutil>=2.8.2->pandas>=1.0.0->ucimlrepo) (1.17.0)\n",
            "Downloading ucimlrepo-0.0.7-py3-none-any.whl (8.0 kB)\n",
            "Installing collected packages: ucimlrepo\n",
            "Successfully installed ucimlrepo-0.0.7\n"
          ]
        }
      ]
    },
    {
      "cell_type": "code",
      "source": [
        "from ucimlrepo import fetch_ucirepo #Importa a função fetch_ucirepo da biblioteca ucimlrepo#\n",
        "\n",
        "student_performance = fetch_ucirepo(id=320) #Baixa a base de dados \"Student_performance\" #\n",
        "\n",
        "# X são as características do nosso conjunto da base de dados #\n",
        "X = student_performance.data.features\n",
        "y = student_performance.data.targets\n",
        "\n",
        "print(student_performance)"
      ],
      "metadata": {
        "id": "RH3VtXkp8MYy",
        "colab": {
          "base_uri": "https://localhost:8080/"
        },
        "outputId": "bd50f09f-e74e-44ff-b4fa-9d7778d30517"
      },
      "execution_count": 6,
      "outputs": [
        {
          "output_type": "stream",
          "name": "stdout",
          "text": [
            "{'data': {'ids': None, 'features':     school sex  age address famsize Pstatus  Medu  Fedu      Mjob      Fjob  \\\n",
            "0       GP   F   18       U     GT3       A     4     4   at_home   teacher   \n",
            "1       GP   F   17       U     GT3       T     1     1   at_home     other   \n",
            "2       GP   F   15       U     LE3       T     1     1   at_home     other   \n",
            "3       GP   F   15       U     GT3       T     4     2    health  services   \n",
            "4       GP   F   16       U     GT3       T     3     3     other     other   \n",
            "..     ...  ..  ...     ...     ...     ...   ...   ...       ...       ...   \n",
            "644     MS   F   19       R     GT3       T     2     3  services     other   \n",
            "645     MS   F   18       U     LE3       T     3     1   teacher  services   \n",
            "646     MS   F   18       U     GT3       T     1     1     other     other   \n",
            "647     MS   M   17       U     LE3       T     3     1  services  services   \n",
            "648     MS   M   18       R     LE3       T     3     2  services     other   \n",
            "\n",
            "     ... higher internet  romantic  famrel  freetime goout Dalc Walc health  \\\n",
            "0    ...    yes       no        no       4         3     4    1    1      3   \n",
            "1    ...    yes      yes        no       5         3     3    1    1      3   \n",
            "2    ...    yes      yes        no       4         3     2    2    3      3   \n",
            "3    ...    yes      yes       yes       3         2     2    1    1      5   \n",
            "4    ...    yes       no        no       4         3     2    1    2      5   \n",
            "..   ...    ...      ...       ...     ...       ...   ...  ...  ...    ...   \n",
            "644  ...    yes      yes        no       5         4     2    1    2      5   \n",
            "645  ...    yes      yes        no       4         3     4    1    1      1   \n",
            "646  ...    yes       no        no       1         1     1    1    1      5   \n",
            "647  ...    yes      yes        no       2         4     5    3    4      2   \n",
            "648  ...    yes      yes        no       4         4     1    3    4      5   \n",
            "\n",
            "    absences  \n",
            "0          4  \n",
            "1          2  \n",
            "2          6  \n",
            "3          0  \n",
            "4          0  \n",
            "..       ...  \n",
            "644        4  \n",
            "645        4  \n",
            "646        6  \n",
            "647        6  \n",
            "648        4  \n",
            "\n",
            "[649 rows x 30 columns], 'targets':      G1  G2  G3\n",
            "0     0  11  11\n",
            "1     9  11  11\n",
            "2    12  13  12\n",
            "3    14  14  14\n",
            "4    11  13  13\n",
            "..   ..  ..  ..\n",
            "644  10  11  10\n",
            "645  15  15  16\n",
            "646  11  12   9\n",
            "647  10  10  10\n",
            "648  10  11  11\n",
            "\n",
            "[649 rows x 3 columns], 'original':     school sex  age address famsize Pstatus  Medu  Fedu      Mjob      Fjob  \\\n",
            "0       GP   F   18       U     GT3       A     4     4   at_home   teacher   \n",
            "1       GP   F   17       U     GT3       T     1     1   at_home     other   \n",
            "2       GP   F   15       U     LE3       T     1     1   at_home     other   \n",
            "3       GP   F   15       U     GT3       T     4     2    health  services   \n",
            "4       GP   F   16       U     GT3       T     3     3     other     other   \n",
            "..     ...  ..  ...     ...     ...     ...   ...   ...       ...       ...   \n",
            "644     MS   F   19       R     GT3       T     2     3  services     other   \n",
            "645     MS   F   18       U     LE3       T     3     1   teacher  services   \n",
            "646     MS   F   18       U     GT3       T     1     1     other     other   \n",
            "647     MS   M   17       U     LE3       T     3     1  services  services   \n",
            "648     MS   M   18       R     LE3       T     3     2  services     other   \n",
            "\n",
            "     ... famrel freetime  goout  Dalc  Walc health absences  G1  G2  G3  \n",
            "0    ...      4        3      4     1     1      3        4   0  11  11  \n",
            "1    ...      5        3      3     1     1      3        2   9  11  11  \n",
            "2    ...      4        3      2     2     3      3        6  12  13  12  \n",
            "3    ...      3        2      2     1     1      5        0  14  14  14  \n",
            "4    ...      4        3      2     1     2      5        0  11  13  13  \n",
            "..   ...    ...      ...    ...   ...   ...    ...      ...  ..  ..  ..  \n",
            "644  ...      5        4      2     1     2      5        4  10  11  10  \n",
            "645  ...      4        3      4     1     1      1        4  15  15  16  \n",
            "646  ...      1        1      1     1     1      5        6  11  12   9  \n",
            "647  ...      2        4      5     3     4      2        6  10  10  10  \n",
            "648  ...      4        4      1     3     4      5        4  10  11  11  \n",
            "\n",
            "[649 rows x 33 columns], 'headers': Index(['school', 'sex', 'age', 'address', 'famsize', 'Pstatus', 'Medu', 'Fedu',\n",
            "       'Mjob', 'Fjob', 'reason', 'guardian', 'traveltime', 'studytime',\n",
            "       'failures', 'schoolsup', 'famsup', 'paid', 'activities', 'nursery',\n",
            "       'higher', 'internet', 'romantic', 'famrel', 'freetime', 'goout', 'Dalc',\n",
            "       'Walc', 'health', 'absences', 'G1', 'G2', 'G3'],\n",
            "      dtype='object')}, 'metadata': {'uci_id': 320, 'name': 'Student Performance', 'repository_url': 'https://archive.ics.uci.edu/dataset/320/student+performance', 'data_url': 'https://archive.ics.uci.edu/static/public/320/data.csv', 'abstract': 'Predict student performance in secondary education (high school). ', 'area': 'Social Science', 'tasks': ['Classification', 'Regression'], 'characteristics': ['Multivariate'], 'num_instances': 649, 'num_features': 30, 'feature_types': ['Integer'], 'demographics': ['Sex', 'Age', 'Other', 'Education Level', 'Occupation'], 'target_col': ['G1', 'G2', 'G3'], 'index_col': None, 'has_missing_values': 'no', 'missing_values_symbol': None, 'year_of_dataset_creation': 2008, 'last_updated': 'Fri Jan 05 2024', 'dataset_doi': '10.24432/C5TG7T', 'creators': ['Paulo Cortez'], 'intro_paper': {'ID': 360, 'type': 'NATIVE', 'title': 'Using data mining to predict secondary school student performance', 'authors': 'P. Cortez, A. M. G. Silva', 'venue': 'Proceedings of 5th Annual Future Business Technology Conference', 'year': 2008, 'journal': None, 'DOI': None, 'URL': 'https://www.semanticscholar.org/paper/61d468d5254730bbecf822c6b60d7d6595d9889c', 'sha': None, 'corpus': '16621299', 'arxiv': None, 'mag': None, 'acl': None, 'pmid': None, 'pmcid': None}, 'additional_info': {'summary': 'This data approach student achievement in secondary education of two Portuguese schools. The data attributes include student grades, demographic, social and school related features) and it was collected by using school reports and questionnaires. Two datasets are provided regarding the performance in two distinct subjects: Mathematics (mat) and Portuguese language (por). In [Cortez and Silva, 2008], the two datasets were modeled under binary/five-level classification and regression tasks. Important note: the target attribute G3 has a strong correlation with attributes G2 and G1. This occurs because G3 is the final year grade (issued at the 3rd period), while G1 and G2 correspond to the 1st and 2nd period grades. It is more difficult to predict G3 without G2 and G1, but such prediction is much more useful (see paper source for more details).', 'purpose': None, 'funded_by': None, 'instances_represent': None, 'recommended_data_splits': None, 'sensitive_data': None, 'preprocessing_description': None, 'variable_info': \"# Attributes for both student-mat.csv (Math course) and student-por.csv (Portuguese language course) datasets:\\r\\n1 school - student's school (binary: 'GP' - Gabriel Pereira or 'MS' - Mousinho da Silveira)\\r\\n2 sex - student's sex (binary: 'F' - female or 'M' - male)\\r\\n3 age - student's age (numeric: from 15 to 22)\\r\\n4 address - student's home address type (binary: 'U' - urban or 'R' - rural)\\r\\n5 famsize - family size (binary: 'LE3' - less or equal to 3 or 'GT3' - greater than 3)\\r\\n6 Pstatus - parent's cohabitation status (binary: 'T' - living together or 'A' - apart)\\r\\n7 Medu - mother's education (numeric: 0 - none,  1 - primary education (4th grade), 2 â€“ 5th to 9th grade, 3 â€“ secondary education or 4 â€“ higher education)\\r\\n8 Fedu - father's education (numeric: 0 - none,  1 - primary education (4th grade), 2 â€“ 5th to 9th grade, 3 â€“ secondary education or 4 â€“ higher education)\\r\\n9 Mjob - mother's job (nominal: 'teacher', 'health' care related, civil 'services' (e.g. administrative or police), 'at_home' or 'other')\\r\\n10 Fjob - father's job (nominal: 'teacher', 'health' care related, civil 'services' (e.g. administrative or police), 'at_home' or 'other')\\r\\n11 reason - reason to choose this school (nominal: close to 'home', school 'reputation', 'course' preference or 'other')\\r\\n12 guardian - student's guardian (nominal: 'mother', 'father' or 'other')\\r\\n13 traveltime - home to school travel time (numeric: 1 - <15 min., 2 - 15 to 30 min., 3 - 30 min. to 1 hour, or 4 - >1 hour)\\r\\n14 studytime - weekly study time (numeric: 1 - <2 hours, 2 - 2 to 5 hours, 3 - 5 to 10 hours, or 4 - >10 hours)\\r\\n15 failures - number of past class failures (numeric: n if 1<=n<3, else 4)\\r\\n16 schoolsup - extra educational support (binary: yes or no)\\r\\n17 famsup - family educational support (binary: yes or no)\\r\\n18 paid - extra paid classes within the course subject (Math or Portuguese) (binary: yes or no)\\r\\n19 activities - extra-curricular activities (binary: yes or no)\\r\\n20 nursery - attended nursery school (binary: yes or no)\\r\\n21 higher - wants to take higher education (binary: yes or no)\\r\\n22 internet - Internet access at home (binary: yes or no)\\r\\n23 romantic - with a romantic relationship (binary: yes or no)\\r\\n24 famrel - quality of family relationships (numeric: from 1 - very bad to 5 - excellent)\\r\\n25 freetime - free time after school (numeric: from 1 - very low to 5 - very high)\\r\\n26 goout - going out with friends (numeric: from 1 - very low to 5 - very high)\\r\\n27 Dalc - workday alcohol consumption (numeric: from 1 - very low to 5 - very high)\\r\\n28 Walc - weekend alcohol consumption (numeric: from 1 - very low to 5 - very high)\\r\\n29 health - current health status (numeric: from 1 - very bad to 5 - very good)\\r\\n30 absences - number of school absences (numeric: from 0 to 93)\\r\\n\\r\\n# these grades are related with the course subject, Math or Portuguese:\\r\\n31 G1 - first period grade (numeric: from 0 to 20)\\r\\n31 G2 - second period grade (numeric: from 0 to 20)\\r\\n32 G3 - final grade (numeric: from 0 to 20, output target)\", 'citation': None}}, 'variables':           name     role         type      demographic  \\\n",
            "0       school  Feature  Categorical             None   \n",
            "1          sex  Feature       Binary              Sex   \n",
            "2          age  Feature      Integer              Age   \n",
            "3      address  Feature  Categorical             None   \n",
            "4      famsize  Feature  Categorical            Other   \n",
            "5      Pstatus  Feature  Categorical            Other   \n",
            "6         Medu  Feature      Integer  Education Level   \n",
            "7         Fedu  Feature      Integer  Education Level   \n",
            "8         Mjob  Feature  Categorical       Occupation   \n",
            "9         Fjob  Feature  Categorical       Occupation   \n",
            "10      reason  Feature  Categorical             None   \n",
            "11    guardian  Feature  Categorical             None   \n",
            "12  traveltime  Feature      Integer             None   \n",
            "13   studytime  Feature      Integer             None   \n",
            "14    failures  Feature      Integer             None   \n",
            "15   schoolsup  Feature       Binary             None   \n",
            "16      famsup  Feature       Binary             None   \n",
            "17        paid  Feature       Binary             None   \n",
            "18  activities  Feature       Binary             None   \n",
            "19     nursery  Feature       Binary             None   \n",
            "20      higher  Feature       Binary             None   \n",
            "21    internet  Feature       Binary             None   \n",
            "22    romantic  Feature       Binary             None   \n",
            "23      famrel  Feature      Integer             None   \n",
            "24    freetime  Feature      Integer             None   \n",
            "25       goout  Feature      Integer             None   \n",
            "26        Dalc  Feature      Integer             None   \n",
            "27        Walc  Feature      Integer             None   \n",
            "28      health  Feature      Integer             None   \n",
            "29    absences  Feature      Integer             None   \n",
            "30          G1   Target  Categorical             None   \n",
            "31          G2   Target  Categorical             None   \n",
            "32          G3   Target      Integer             None   \n",
            "\n",
            "                                          description units missing_values  \n",
            "0   student's school (binary: 'GP' - Gabriel Perei...  None             no  \n",
            "1   student's sex (binary: 'F' - female or 'M' - m...  None             no  \n",
            "2              student's age (numeric: from 15 to 22)  None             no  \n",
            "3   student's home address type (binary: 'U' - urb...  None             no  \n",
            "4   family size (binary: 'LE3' - less or equal to ...  None             no  \n",
            "5   parent's cohabitation status (binary: 'T' - li...  None             no  \n",
            "6   mother's education (numeric: 0 - none,  1 - pr...  None             no  \n",
            "7   father's education (numeric: 0 - none,  1 - pr...  None             no  \n",
            "8   mother's job (nominal: 'teacher', 'health' car...  None             no  \n",
            "9   father's job (nominal: 'teacher', 'health' car...  None             no  \n",
            "10  reason to choose this school (nominal: close t...  None             no  \n",
            "11  student's guardian (nominal: 'mother', 'father...  None             no  \n",
            "12  home to school travel time (numeric: 1 - <15 m...  None             no  \n",
            "13  weekly study time (numeric: 1 - <2 hours, 2 - ...  None             no  \n",
            "14  number of past class failures (numeric: n if 1...  None             no  \n",
            "15      extra educational support (binary: yes or no)  None             no  \n",
            "16     family educational support (binary: yes or no)  None             no  \n",
            "17  extra paid classes within the course subject (...  None             no  \n",
            "18    extra-curricular activities (binary: yes or no)  None             no  \n",
            "19        attended nursery school (binary: yes or no)  None             no  \n",
            "20  wants to take higher education (binary: yes or...  None             no  \n",
            "21        Internet access at home (binary: yes or no)  None             no  \n",
            "22   with a romantic relationship (binary: yes or no)  None             no  \n",
            "23  quality of family relationships (numeric: from...  None             no  \n",
            "24  free time after school (numeric: from 1 - very...  None             no  \n",
            "25  going out with friends (numeric: from 1 - very...  None             no  \n",
            "26  workday alcohol consumption (numeric: from 1 -...  None             no  \n",
            "27  weekend alcohol consumption (numeric: from 1 -...  None             no  \n",
            "28  current health status (numeric: from 1 - very ...  None             no  \n",
            "29  number of school absences (numeric: from 0 to 93)  None             no  \n",
            "30         first period grade (numeric: from 0 to 20)  None             no  \n",
            "31        second period grade (numeric: from 0 to 20)  None             no  \n",
            "32  final grade (numeric: from 0 to 20, output tar...  None             no  }\n"
          ]
        }
      ]
    },
    {
      "cell_type": "markdown",
      "source": [
        "A tabela mostra dados que eu deveria procurar atraves de códigos tal como, a quantidade de de linhas e colunas e os tipos de dados.\n"
      ],
      "metadata": {
        "id": "sSeYy0VIzHGZ"
      }
    },
    {
      "cell_type": "markdown",
      "source": [
        "\n",
        "## Inicio da exploração\n"
      ],
      "metadata": {
        "id": "-PTXZnm36Vgh"
      }
    },
    {
      "cell_type": "code",
      "source": [
        "print(X.head) # Mostra uma prévia da minha tabela#"
      ],
      "metadata": {
        "colab": {
          "base_uri": "https://localhost:8080/"
        },
        "id": "9yK8lSme2FHR",
        "outputId": "701bb4e7-64d2-4d01-db6d-0bcf89402e95"
      },
      "execution_count": null,
      "outputs": [
        {
          "output_type": "stream",
          "name": "stdout",
          "text": [
            "<bound method NDFrame.head of     school sex  age address famsize Pstatus  Medu  Fedu      Mjob      Fjob  \\\n",
            "0       GP   F   18       U     GT3       A     4     4   at_home   teacher   \n",
            "1       GP   F   17       U     GT3       T     1     1   at_home     other   \n",
            "2       GP   F   15       U     LE3       T     1     1   at_home     other   \n",
            "3       GP   F   15       U     GT3       T     4     2    health  services   \n",
            "4       GP   F   16       U     GT3       T     3     3     other     other   \n",
            "..     ...  ..  ...     ...     ...     ...   ...   ...       ...       ...   \n",
            "644     MS   F   19       R     GT3       T     2     3  services     other   \n",
            "645     MS   F   18       U     LE3       T     3     1   teacher  services   \n",
            "646     MS   F   18       U     GT3       T     1     1     other     other   \n",
            "647     MS   M   17       U     LE3       T     3     1  services  services   \n",
            "648     MS   M   18       R     LE3       T     3     2  services     other   \n",
            "\n",
            "     ... higher internet  romantic  famrel  freetime goout Dalc Walc health  \\\n",
            "0    ...    yes       no        no       4         3     4    1    1      3   \n",
            "1    ...    yes      yes        no       5         3     3    1    1      3   \n",
            "2    ...    yes      yes        no       4         3     2    2    3      3   \n",
            "3    ...    yes      yes       yes       3         2     2    1    1      5   \n",
            "4    ...    yes       no        no       4         3     2    1    2      5   \n",
            "..   ...    ...      ...       ...     ...       ...   ...  ...  ...    ...   \n",
            "644  ...    yes      yes        no       5         4     2    1    2      5   \n",
            "645  ...    yes      yes        no       4         3     4    1    1      1   \n",
            "646  ...    yes       no        no       1         1     1    1    1      5   \n",
            "647  ...    yes      yes        no       2         4     5    3    4      2   \n",
            "648  ...    yes      yes        no       4         4     1    3    4      5   \n",
            "\n",
            "    absences  \n",
            "0          4  \n",
            "1          2  \n",
            "2          6  \n",
            "3          0  \n",
            "4          0  \n",
            "..       ...  \n",
            "644        4  \n",
            "645        4  \n",
            "646        6  \n",
            "647        6  \n",
            "648        4  \n",
            "\n",
            "[649 rows x 30 columns]>\n"
          ]
        }
      ]
    },
    {
      "cell_type": "markdown",
      "source": [
        "Quando importei o BD direto do site, além da tabela, já enviou um dicionário, constato 3 tipos de informações.\n",
        "Dados básicos, como Nome da escola, Gênero do aluno, idade, número de faltas, o resultado de notas por semestre e o resultado final ao fim do ano.\n",
        "Informações extras que revelam o estilo de vida dos alunos, como profissão do genitores, escolaridade dos progenitores, moradia em lugares urbanos ou rurais, estado de saúde, estar em um relacionamento amoroso, tem acesso a internet, etc.\n",
        "Seu histórico escolar, tempo de horas estudadas, atividades extracurrulares, reforço escolar, numéro de reprovações ao longo dos anos, frequentou pré-escola, deseja cursar ensino superior.\n"
      ],
      "metadata": {
        "id": "CdXikhMi63ox"
      }
    },
    {
      "cell_type": "code",
      "source": [
        "#Quantidade da linhas e coluna #\n",
        "print(X.shape)\n",
        "print(y.shape)"
      ],
      "metadata": {
        "colab": {
          "base_uri": "https://localhost:8080/"
        },
        "id": "fKGOc2kw6JVz",
        "outputId": "9c6b2df4-4a26-4071-cc8e-6a07b737a485"
      },
      "execution_count": null,
      "outputs": [
        {
          "output_type": "stream",
          "name": "stdout",
          "text": [
            "(649, 30)\n",
            "(649, 3)\n"
          ]
        }
      ]
    },
    {
      "cell_type": "code",
      "source": [
        "print(X.dtypes) #Código para informar quais os tipos de dados que cada linha possui#"
      ],
      "metadata": {
        "colab": {
          "base_uri": "https://localhost:8080/"
        },
        "id": "50QoM4vyuRis",
        "outputId": "5fcd7319-b29e-40c0-9651-79cdaea0429e"
      },
      "execution_count": 10,
      "outputs": [
        {
          "output_type": "stream",
          "name": "stdout",
          "text": [
            "school        object\n",
            "sex           object\n",
            "age            int64\n",
            "address       object\n",
            "famsize       object\n",
            "Pstatus       object\n",
            "Medu           int64\n",
            "Fedu           int64\n",
            "Mjob          object\n",
            "Fjob          object\n",
            "reason        object\n",
            "guardian      object\n",
            "traveltime     int64\n",
            "studytime      int64\n",
            "failures       int64\n",
            "schoolsup     object\n",
            "famsup        object\n",
            "paid          object\n",
            "activities    object\n",
            "nursery       object\n",
            "higher        object\n",
            "internet      object\n",
            "romantic      object\n",
            "famrel         int64\n",
            "freetime       int64\n",
            "goout          int64\n",
            "Dalc           int64\n",
            "Walc           int64\n",
            "health         int64\n",
            "absences       int64\n",
            "dtype: object\n"
          ]
        }
      ]
    },
    {
      "cell_type": "code",
      "source": [
        "print(y.head())"
      ],
      "metadata": {
        "colab": {
          "base_uri": "https://localhost:8080/"
        },
        "id": "QDL8MhCwxgk-",
        "outputId": "e75fdd3d-cb3b-4f8c-9d34-1065a10fb463"
      },
      "execution_count": 11,
      "outputs": [
        {
          "output_type": "stream",
          "name": "stdout",
          "text": [
            "   G1  G2  G3\n",
            "0   0  11  11\n",
            "1   9  11  11\n",
            "2  12  13  12\n",
            "3  14  14  14\n",
            "4  11  13  13\n"
          ]
        }
      ]
    },
    {
      "cell_type": "code",
      "source": [
        "y.info()"
      ],
      "metadata": {
        "colab": {
          "base_uri": "https://localhost:8080/"
        },
        "id": "ZpSSwT2O-Yco",
        "outputId": "151b15c3-71f3-4511-c1e7-86d260b5def0"
      },
      "execution_count": 35,
      "outputs": [
        {
          "output_type": "stream",
          "name": "stdout",
          "text": [
            "<class 'pandas.core.frame.DataFrame'>\n",
            "RangeIndex: 649 entries, 0 to 648\n",
            "Data columns (total 3 columns):\n",
            " #   Column  Non-Null Count  Dtype\n",
            "---  ------  --------------  -----\n",
            " 0   G1      649 non-null    int64\n",
            " 1   G2      649 non-null    int64\n",
            " 2   G3      649 non-null    int64\n",
            "dtypes: int64(3)\n",
            "memory usage: 15.3 KB\n"
          ]
        }
      ]
    },
    {
      "cell_type": "code",
      "source": [
        "print(X.head())"
      ],
      "metadata": {
        "colab": {
          "base_uri": "https://localhost:8080/"
        },
        "id": "-l9e4geBxiDe",
        "outputId": "f0d38dee-8bb9-4b98-e32e-bd1eb1e46387"
      },
      "execution_count": 12,
      "outputs": [
        {
          "output_type": "stream",
          "name": "stdout",
          "text": [
            "  school sex  age address famsize Pstatus  Medu  Fedu     Mjob      Fjob  ...  \\\n",
            "0     GP   F   18       U     GT3       A     4     4  at_home   teacher  ...   \n",
            "1     GP   F   17       U     GT3       T     1     1  at_home     other  ...   \n",
            "2     GP   F   15       U     LE3       T     1     1  at_home     other  ...   \n",
            "3     GP   F   15       U     GT3       T     4     2   health  services  ...   \n",
            "4     GP   F   16       U     GT3       T     3     3    other     other  ...   \n",
            "\n",
            "  higher internet  romantic  famrel  freetime goout Dalc Walc health absences  \n",
            "0    yes       no        no       4         3     4    1    1      3        4  \n",
            "1    yes      yes        no       5         3     3    1    1      3        2  \n",
            "2    yes      yes        no       4         3     2    2    3      3        6  \n",
            "3    yes      yes       yes       3         2     2    1    1      5        0  \n",
            "4    yes       no        no       4         3     2    1    2      5        0  \n",
            "\n",
            "[5 rows x 30 columns]\n"
          ]
        }
      ]
    },
    {
      "cell_type": "markdown",
      "source": [
        "Iniciei investigando os totais dos dados com cada tabela com a função \"shape\". Depois preciso saber quais informações tenho em X e Y, onde a tabela X possui dados gerais e mais informações que a tabela y e a tabela é composta de três colunas onde constam as notas dos alunos, G1 e G2 têm valores semestrais e G3 valores anuais das outras duas tabelas."
      ],
      "metadata": {
        "id": "g1hyhTd3yGft"
      }
    },
    {
      "cell_type": "code",
      "source": [
        "X.info()"
      ],
      "metadata": {
        "colab": {
          "base_uri": "https://localhost:8080/"
        },
        "id": "AdnTcFsN-esw",
        "outputId": "dd759c8a-5874-4cc3-b3c0-08490b19b98a"
      },
      "execution_count": 36,
      "outputs": [
        {
          "output_type": "stream",
          "name": "stdout",
          "text": [
            "<class 'pandas.core.frame.DataFrame'>\n",
            "RangeIndex: 649 entries, 0 to 648\n",
            "Data columns (total 30 columns):\n",
            " #   Column      Non-Null Count  Dtype \n",
            "---  ------      --------------  ----- \n",
            " 0   school      649 non-null    object\n",
            " 1   sex         649 non-null    object\n",
            " 2   age         649 non-null    int64 \n",
            " 3   address     649 non-null    object\n",
            " 4   famsize     649 non-null    object\n",
            " 5   Pstatus     649 non-null    object\n",
            " 6   Medu        649 non-null    int64 \n",
            " 7   Fedu        649 non-null    int64 \n",
            " 8   Mjob        649 non-null    object\n",
            " 9   Fjob        649 non-null    object\n",
            " 10  reason      649 non-null    object\n",
            " 11  guardian    649 non-null    object\n",
            " 12  traveltime  649 non-null    int64 \n",
            " 13  studytime   649 non-null    int64 \n",
            " 14  failures    649 non-null    int64 \n",
            " 15  schoolsup   649 non-null    object\n",
            " 16  famsup      649 non-null    object\n",
            " 17  paid        649 non-null    object\n",
            " 18  activities  649 non-null    object\n",
            " 19  nursery     649 non-null    object\n",
            " 20  higher      649 non-null    object\n",
            " 21  internet    649 non-null    object\n",
            " 22  romantic    649 non-null    object\n",
            " 23  famrel      649 non-null    int64 \n",
            " 24  freetime    649 non-null    int64 \n",
            " 25  goout       649 non-null    int64 \n",
            " 26  Dalc        649 non-null    int64 \n",
            " 27  Walc        649 non-null    int64 \n",
            " 28  health      649 non-null    int64 \n",
            " 29  absences    649 non-null    int64 \n",
            "dtypes: int64(13), object(17)\n",
            "memory usage: 152.2+ KB\n"
          ]
        }
      ]
    },
    {
      "cell_type": "code",
      "source": [
        "media = y['G3'].mean() #Mostrar média da coluna G3#\n",
        "print(f'Média geral das notas ao final do ano é : {media}')"
      ],
      "metadata": {
        "colab": {
          "base_uri": "https://localhost:8080/"
        },
        "id": "8_3umdZ6xkl2",
        "outputId": "fc6259f8-8d38-4705-fb3e-626d1fb24106"
      },
      "execution_count": 15,
      "outputs": [
        {
          "output_type": "stream",
          "name": "stdout",
          "text": [
            "Média geral das notas ao final do ano é : 11.906009244992296\n"
          ]
        }
      ]
    },
    {
      "cell_type": "markdown",
      "source": [
        "## Método If e Else\n",
        "## Método Loop"
      ],
      "metadata": {
        "id": "KF3pa4fQ1Qr_"
      }
    },
    {
      "cell_type": "code",
      "source": [
        "# Loop for para saber quantos alunos tiraram a nota media #\n",
        "contador = 0\n",
        "\n",
        "for nota in y['G3']:\n",
        "    if nota >= 11:\n",
        "        contador += 1\n",
        "\n",
        "print(f'Alunos com nota final >= 11: {contador}')\n"
      ],
      "metadata": {
        "colab": {
          "base_uri": "https://localhost:8080/"
        },
        "id": "6XnOFfMm1QL_",
        "outputId": "4bfffe16-2bb3-4273-e432-7ec673a7ce3c"
      },
      "execution_count": 17,
      "outputs": [
        {
          "output_type": "stream",
          "name": "stdout",
          "text": [
            "Alunos com nota final >= 15: 452\n"
          ]
        }
      ]
    },
    {
      "cell_type": "code",
      "source": [
        "# Mostra as notas dos alunos de 1 a 9 #\n",
        "n = 1\n",
        "\n",
        "while n < 10:\n",
        "    print(f'Aluno {n}: Nota = {y[\"G3\"].iloc[n]}')\n",
        "    n += 1\n"
      ],
      "metadata": {
        "colab": {
          "base_uri": "https://localhost:8080/"
        },
        "id": "tz9XNFSF2KR2",
        "outputId": "b9059b8d-7b1c-49ae-ce43-32d724e83e13"
      },
      "execution_count": 26,
      "outputs": [
        {
          "output_type": "stream",
          "name": "stdout",
          "text": [
            "Aluno 1: Nota = 11\n",
            "Aluno 2: Nota = 12\n",
            "Aluno 3: Nota = 14\n",
            "Aluno 4: Nota = 13\n",
            "Aluno 5: Nota = 13\n",
            "Aluno 6: Nota = 13\n",
            "Aluno 7: Nota = 13\n",
            "Aluno 8: Nota = 17\n",
            "Aluno 9: Nota = 13\n"
          ]
        }
      ]
    },
    {
      "cell_type": "code",
      "source": [
        "# Quantidade de alunos aprovados e reprovados #\n",
        "aprovados = 0\n",
        "reprovados = 0\n",
        "\n",
        "for nota in y['G3']:\n",
        "    if nota >= 10:\n",
        "        aprovados += 1\n",
        "    else:\n",
        "        reprovados += 1\n",
        "\n",
        "print(f\"Aprovados: {aprovados}\")\n",
        "print(f\"Reprovados: {reprovados}\")"
      ],
      "metadata": {
        "colab": {
          "base_uri": "https://localhost:8080/"
        },
        "id": "Qqv3TysD4sLp",
        "outputId": "f98f93da-a58f-48dc-887f-338ba98befd3"
      },
      "execution_count": 33,
      "outputs": [
        {
          "output_type": "stream",
          "name": "stdout",
          "text": [
            "Aprovados: 549\n",
            "Reprovados: 100\n"
          ]
        }
      ]
    },
    {
      "cell_type": "markdown",
      "source": [
        "##Listas e Tuplas com Pandas"
      ],
      "metadata": {
        "id": "CDurWf_Z9kha"
      }
    },
    {
      "cell_type": "code",
      "source": [
        " # Mostrar distribuição dos dados da tabela X #\n",
        "print(X.describe())"
      ],
      "metadata": {
        "colab": {
          "base_uri": "https://localhost:8080/"
        },
        "id": "uw7ovlxJ8rHb",
        "outputId": "510a8e83-1e83-43dd-ff78-652bf38c2130"
      },
      "execution_count": 37,
      "outputs": [
        {
          "output_type": "stream",
          "name": "stdout",
          "text": [
            "              age        Medu        Fedu  traveltime   studytime    failures  \\\n",
            "count  649.000000  649.000000  649.000000  649.000000  649.000000  649.000000   \n",
            "mean    16.744222    2.514638    2.306626    1.568567    1.930663    0.221880   \n",
            "std      1.218138    1.134552    1.099931    0.748660    0.829510    0.593235   \n",
            "min     15.000000    0.000000    0.000000    1.000000    1.000000    0.000000   \n",
            "25%     16.000000    2.000000    1.000000    1.000000    1.000000    0.000000   \n",
            "50%     17.000000    2.000000    2.000000    1.000000    2.000000    0.000000   \n",
            "75%     18.000000    4.000000    3.000000    2.000000    2.000000    0.000000   \n",
            "max     22.000000    4.000000    4.000000    4.000000    4.000000    3.000000   \n",
            "\n",
            "           famrel    freetime       goout        Dalc        Walc      health  \\\n",
            "count  649.000000  649.000000  649.000000  649.000000  649.000000  649.000000   \n",
            "mean     3.930663    3.180277    3.184900    1.502311    2.280431    3.536210   \n",
            "std      0.955717    1.051093    1.175766    0.924834    1.284380    1.446259   \n",
            "min      1.000000    1.000000    1.000000    1.000000    1.000000    1.000000   \n",
            "25%      4.000000    3.000000    2.000000    1.000000    1.000000    2.000000   \n",
            "50%      4.000000    3.000000    3.000000    1.000000    2.000000    4.000000   \n",
            "75%      5.000000    4.000000    4.000000    2.000000    3.000000    5.000000   \n",
            "max      5.000000    5.000000    5.000000    5.000000    5.000000    5.000000   \n",
            "\n",
            "         absences  \n",
            "count  649.000000  \n",
            "mean     3.659476  \n",
            "std      4.640759  \n",
            "min      0.000000  \n",
            "25%      0.000000  \n",
            "50%      2.000000  \n",
            "75%      6.000000  \n",
            "max     32.000000  \n"
          ]
        }
      ]
    },
    {
      "cell_type": "code",
      "source": [
        " # Mostrar distribuição dos dados da tabela y #\n",
        "print(y.describe())"
      ],
      "metadata": {
        "colab": {
          "base_uri": "https://localhost:8080/"
        },
        "id": "7HTG9Bp0-4pu",
        "outputId": "ae5e5e13-bcd1-42c8-e375-40165c162747"
      },
      "execution_count": 38,
      "outputs": [
        {
          "output_type": "stream",
          "name": "stdout",
          "text": [
            "               G1          G2          G3\n",
            "count  649.000000  649.000000  649.000000\n",
            "mean    11.399076   11.570108   11.906009\n",
            "std      2.745265    2.913639    3.230656\n",
            "min      0.000000    0.000000    0.000000\n",
            "25%     10.000000   10.000000   10.000000\n",
            "50%     11.000000   11.000000   12.000000\n",
            "75%     13.000000   13.000000   14.000000\n",
            "max     19.000000   19.000000   19.000000\n"
          ]
        }
      ]
    },
    {
      "cell_type": "code",
      "source": [
        "# Quantos alunos possuem um relacionamento amoroso#\n",
        "media_por_relacionamento = y.groupby(X['romantic'])['G3'].mean()\n",
        "print(media_por_relacionamento)"
      ],
      "metadata": {
        "colab": {
          "base_uri": "https://localhost:8080/"
        },
        "id": "ryq_Y1Xs_lz9",
        "outputId": "b06c634a-f603-4114-f594-2096631e9e67"
      },
      "execution_count": 41,
      "outputs": [
        {
          "output_type": "stream",
          "name": "stdout",
          "text": [
            "romantic\n",
            "no     12.129268\n",
            "yes    11.523013\n",
            "Name: G3, dtype: float64\n"
          ]
        }
      ]
    },
    {
      "cell_type": "markdown",
      "source": [
        "##Numpy"
      ],
      "metadata": {
        "id": "IHRT34_cAdyN"
      }
    },
    {
      "cell_type": "code",
      "metadata": {
        "colab": {
          "base_uri": "https://localhost:8080/"
        },
        "id": "6e2200d3",
        "outputId": "263281e1-519a-404b-fb7e-5a6c403039f1"
      },
      "source": [
        "# Converter a tabela y para um array em NumPy\n",
        "y_np = y.to_numpy()\n",
        "\n",
        "# Calcula o desvio padrão para cada coluna de notas\n",
        "desvio_padrao = np.std(y_np, axis=0)\n",
        "\n",
        "print(f\"Desvio Padrão para G1, G2 e G3: {desvio_padrao}\")"
      ],
      "execution_count": 63,
      "outputs": [
        {
          "output_type": "stream",
          "name": "stdout",
          "text": [
            "Desvio Padrão para G1, G2 e G3: [2.74314932 2.91139309 3.22816633]\n"
          ]
        }
      ]
    },
    {
      "cell_type": "markdown",
      "source": [
        "##MatplotLib"
      ],
      "metadata": {
        "id": "D0uUTRXdEwFE"
      }
    },
    {
      "cell_type": "code",
      "source": [],
      "metadata": {
        "id": "pjeWdYsBEvfN"
      },
      "execution_count": null,
      "outputs": []
    },
    {
      "cell_type": "code",
      "metadata": {
        "colab": {
          "base_uri": "https://localhost:8080/",
          "height": 472
        },
        "id": "b6de06fb",
        "outputId": "116f2886-f143-40aa-f5f1-d9c7b67c4335"
      },
      "source": [
        "# Declaração das colunas #\n",
        "notas = ['G1', 'G2', 'G3']\n",
        "\n",
        "plt.bar(notas, desvio_padrao) #Criação do gráfico de barras #\n",
        "plt.title('Desvio Padrão das Notas') # titulo do gráfico#\n",
        "plt.xlabel('Período da Nota') # eixo X #\n",
        "plt.ylabel('Desvio Padrão')  # Eixo Y #\n",
        "plt.show() # Mostrar gráfico #"
      ],
      "execution_count": 59,
      "outputs": [
        {
          "output_type": "display_data",
          "data": {
            "text/plain": [
              "<Figure size 640x480 with 1 Axes>"
            ],
            "image/png": "[encoded data removed]"
          },
          "metadata": {}
        }
      ]
    },
    {
      "cell_type": "code",
      "source": [
        "# Declaração de variaveis para criação do gráfico#\n",
        "frequencia_aprovados_reprovados = ['Aprovados', 'Reprovados']\n",
        "comparacao = [aprovados, reprovados]\n",
        "\n",
        "\n",
        "# Criação do gráfico de pizza\n",
        "plt.pie(comparacao, labels=frequencia_aprovados_reprovados, autopct='%1.1f%%', startangle=90,\n",
        "        colors=['#66b3ff', '#ff9999']) # Chama minhas variaveis para formar um gráfico de pizza, com cores personalizas em porcentagem #\n",
        "# Título\n",
        "plt.title('Distribuição de Alunos Aprovados e Reprovados')\n",
        "plt.axis('equal')  # Mantém a pizza circular\n",
        "plt.tight_layout()\n",
        "plt.show()"
      ],
      "metadata": {
        "colab": {
          "base_uri": "https://localhost:8080/",
          "height": 487
        },
        "id": "0Iuv2ny1I81W",
        "outputId": "9535cf5d-ca37-4d92-d744-60354ab40fd8"
      },
      "execution_count": 61,
      "outputs": [
        {
          "output_type": "display_data",
          "data": {
            "text/plain": [
              "<Figure size 640x480 with 1 Axes>"
            ],
            "image/png": "[encoded data removed]"
          },
          "metadata": {}
        }
      ]
    },
    {
      "cell_type": "markdown",
      "source": [
        "# **Complementos futuros**\n",
        "\n",
        "\n",
        "*   Aprender a importação no Google Colab de uma base que está hospedado no Google Drive\n",
        "*   Explorar mais tuplas e listas\n",
        "*   Explorar mais o numpy\n",
        "*   Para de depender tanto de IA\n",
        "\n",
        "\n",
        "\n"
      ],
      "metadata": {
        "id": "rHWjqt6L8NYR"
      }
    }
  ]
}
